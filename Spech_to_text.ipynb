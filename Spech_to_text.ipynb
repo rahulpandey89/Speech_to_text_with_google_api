{
 "cells": [
  {
   "cell_type": "markdown",
   "metadata": {},
   "source": [
    "## Import Required Library "
   ]
  },
  {
   "cell_type": "code",
   "execution_count": null,
   "metadata": {},
   "outputs": [],
   "source": [
    "import speech_recognition as sr"
   ]
  },
  {
   "cell_type": "code",
   "execution_count": 3,
   "metadata": {},
   "outputs": [],
   "source": [
    "import pyaudio"
   ]
  },
  {
   "cell_type": "code",
   "execution_count": 8,
   "metadata": {},
   "outputs": [],
   "source": [
    "import webbrowser as wb"
   ]
  },
  {
   "cell_type": "markdown",
   "metadata": {},
   "source": [
    "## Creating Object of Speech recognizer class"
   ]
  },
  {
   "cell_type": "code",
   "execution_count": 9,
   "metadata": {},
   "outputs": [],
   "source": [
    "r1=sr.Recognizer()\n",
    "r2=sr.Recognizer()\n",
    "r3=sr.Recognizer()"
   ]
  },
  {
   "cell_type": "markdown",
   "metadata": {},
   "source": [
    "## Using Google Speech recognizer after speak now say video and then say anything that will be searched in you tube"
   ]
  },
  {
   "cell_type": "code",
   "execution_count": null,
   "metadata": {},
   "outputs": [
    {
     "name": "stdout",
     "output_type": "stream",
     "text": [
      "search yooutube\n",
      "speak now\n"
     ]
    }
   ],
   "source": [
    "with sr.Microphone() as source:\n",
    "    print('search yooutube')\n",
    "    print('speak now')\n",
    "    audio=r3.listen(source)\n",
    "if 'video' in r1.recognize_google(audio):\n",
    "    r1=sr.Recognizer()\n",
    "    url='https://www.youtube.com/results?search_query='\n",
    "    with sr.Microphone() as source:\n",
    "        print(\"search for video\")\n",
    "        \n",
    "        audio=r2.listen(source)\n",
    "    try:\n",
    "        get=r1.recognize_google(audio)\n",
    "            \n",
    "        wb.get().open_new(url+get)\n",
    "        \n",
    "    except sr.UnknownValueError:\n",
    "        print(\"error\")\n",
    "    except sr.RequestError:\n",
    "        print(\"User\")\n",
    "        "
   ]
  }
 ],
 "metadata": {
  "kernelspec": {
   "display_name": "Python 3",
   "language": "python",
   "name": "python3"
  },
  "language_info": {
   "codemirror_mode": {
    "name": "ipython",
    "version": 3
   },
   "file_extension": ".py",
   "mimetype": "text/x-python",
   "name": "python",
   "nbconvert_exporter": "python",
   "pygments_lexer": "ipython3",
   "version": "3.7.1"
  }
 },
 "nbformat": 4,
 "nbformat_minor": 2
}
